{
 "cells": [
  {
   "cell_type": "markdown",
   "metadata": {},
   "source": [
    "# Лабораторная работа №1 по Машинному Обучению\n",
    "\n",
    "    Исполнил: Гимазетдинов Дмитрий Русланович\n",
    "    Группа: M80-109-CB"
   ]
  },
  {
   "cell_type": "code",
   "execution_count": null,
   "metadata": {},
   "outputs": [],
   "source": [
    "# === Импортируем Framework ===\n",
    "from framework.core.activations import *\n",
    "from framework.core.dense import Dense\n",
    "from framework.core.dropout import Dropout\n",
    "\n",
    "from framework.opt.adam import Adam\n",
    "from framework.opt.sgd import SGD\n",
    "from framework.opt.rmsprop import RMSProp\n",
    "from framework.opt.momentum_sgd import MomentumSGD\n",
    "\n",
    "from framework.utils.data_loader import DataLoader\n",
    "from framework.utils.datasets_engine import Dataset"
   ]
  },
  {
   "cell_type": "markdown",
   "metadata": {},
   "source": [
    "# Тестирование фреймворка"
   ]
  },
  {
   "cell_type": "markdown",
   "metadata": {},
   "source": [
    "# Пример задачи классификации на случайных данных"
   ]
  },
  {
   "cell_type": "markdown",
   "metadata": {},
   "source": [
    "# Пример задачи регрессии на датасете \"\""
   ]
  },
  {
   "cell_type": "markdown",
   "metadata": {},
   "source": [
    "# Пример задачи классификации на датасете \"\""
   ]
  }
 ],
 "metadata": {
  "kernelspec": {
   "display_name": ".venv",
   "language": "python",
   "name": "python3"
  },
  "language_info": {
   "codemirror_mode": {
    "name": "ipython",
    "version": 3
   },
   "file_extension": ".py",
   "mimetype": "text/x-python",
   "name": "python",
   "nbconvert_exporter": "python",
   "pygments_lexer": "ipython3",
   "version": "3.11.2"
  }
 },
 "nbformat": 4,
 "nbformat_minor": 2
}
